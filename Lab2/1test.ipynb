{
 "cells": [
  {
   "cell_type": "code",
   "execution_count": 13,
   "metadata": {},
   "outputs": [],
   "source": [
    "import pandas as pd\n",
    "from sklearn.model_selection import train_test_split\n",
    "from sklearn.feature_extraction.text import CountVectorizer\n",
    "from sklearn.naive_bayes import BernoulliNB, MultinomialNB\n",
    "\n"
   ]
  },
  {
   "cell_type": "code",
   "execution_count": 14,
   "metadata": {},
   "outputs": [],
   "source": [
    "# Bước 1: Đọc dữ liệu\n",
    "data = pd.read_csv('Education.csv')\n",
    "\n",
    "# Bước 2: Chia tập dữ liệu thành tập huấn luyện và tập kiểm tra\n",
    "X_train, X_test, y_train, y_test = train_test_split(data['Text'], data['Label'], test_size=0.2, random_state=42)\n",
    "\n",
    "# Bước 3: Biểu diễn văn bản bằng Bag-of-Words\n",
    "vectorizer = CountVectorizer()\n",
    "X_train_vec = vectorizer.fit_transform(X_train)\n",
    "X_test_vec = vectorizer.transform(X_test)\n",
    "\n"
   ]
  },
  {
   "cell_type": "code",
   "execution_count": null,
   "metadata": {},
   "outputs": [],
   "source": [
    "# Bước 4: Multinomial Naive Bayes\n",
    "multinomial_nb = MultinomialNB()\n",
    "multinomial_nb.fit(X_train_vec, y_train)\n",
    "\n",
    "# Bước 5: Bernoulli Naive Bayes (nếu cần)\n",
    "bernoulli_nb = BernoulliNB()\n",
    "bernoulli_nb.fit(X_train_vec, y_train)\n",
    "\n",
    "# Nhập câu từ người dùng\n",
    "user_input = input(\"Nhập văn bản: \")\n",
    "\n",
    "# Biểu diễn văn bản người dùng nhập vào dạng vector\n",
    "user_input_vec = vectorizer.transform([user_input])\n",
    "\n",
    "# Dự đoán nhãn bằng Multinomial Naive Bayes\n",
    "predicted_label_multinomial = multinomial_nb.predict(user_input_vec)[0]\n",
    "\n",
    "# Dự đoán nhãn bằng Bernoulli Naive Bayes (nếu muốn dùng)\n",
    "predicted_label_bernoulli = bernoulli_nb.predict(user_input_vec)[0]\n"
   ]
  },
  {
   "cell_type": "code",
   "execution_count": 17,
   "metadata": {},
   "outputs": [
    {
     "name": "stdout",
     "output_type": "stream",
     "text": [
      "Text đã nhập (User Input): Critics argue that recent improvements in the school system are merely superficial.\n",
      "Nhãn dự đoán (Multinomial Naive Bayes): negative\n",
      "Nhãn dự đoán (Bernoulli Naive Bayes): negative\n"
     ]
    }
   ],
   "source": [
    "# Xuất kết quả dự đoán\n",
    "print(f\"Text đã nhập (User Input): {user_input}\")\n",
    "print(f\"Nhãn dự đoán (Multinomial Naive Bayes): {predicted_label_multinomial}\")\n",
    "print(f\"Nhãn dự đoán (Bernoulli Naive Bayes): {predicted_label_bernoulli}\")\n"
   ]
  }
 ],
 "metadata": {
  "kernelspec": {
   "display_name": "Python 3",
   "language": "python",
   "name": "python3"
  },
  "language_info": {
   "codemirror_mode": {
    "name": "ipython",
    "version": 3
   },
   "file_extension": ".py",
   "mimetype": "text/x-python",
   "name": "python",
   "nbconvert_exporter": "python",
   "pygments_lexer": "ipython3",
   "version": "3.11.2"
  }
 },
 "nbformat": 4,
 "nbformat_minor": 2
}
