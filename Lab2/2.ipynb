{
 "cells": [
  {
   "cell_type": "code",
   "execution_count": 8,
   "metadata": {},
   "outputs": [],
   "source": [
    "import pandas as pd\n",
    "from sklearn.model_selection import train_test_split\n",
    "from sklearn.preprocessing import LabelEncoder, StandardScaler\n",
    "from sklearn.naive_bayes import GaussianNB\n",
    "from sklearn.metrics import accuracy_score, classification_report"
   ]
  },
  {
   "cell_type": "code",
   "execution_count": 9,
   "metadata": {},
   "outputs": [],
   "source": [
    "# Bước 1: Đọc dữ liệu\n",
    "data = pd.read_csv('Drug.csv')\n",
    "\n",
    "# Bước 2: Tiền xử lý dữ liệu\n",
    "# Chuyển đổi biến phân loại thành dạng số\n",
    "label_encoder = LabelEncoder()\n",
    "\n",
    "data['Sex'] = label_encoder.fit_transform(data['Sex'])\n",
    "data['BP'] = label_encoder.fit_transform(data['BP'])\n",
    "data['Cholesterol'] = label_encoder.fit_transform(data['Cholesterol'])\n",
    "\n",
    "# Chia tập dữ liệu thành biến độc lập và biến mục tiêu\n",
    "X = data[['Age', 'Sex', 'BP', 'Cholesterol', 'Na_to_K']]\n",
    "y = data['Drug']\n",
    "\n",
    "# Chia dữ liệu thành tập huấn luyện và tập kiểm tra\n",
    "X_train, X_test, y_train, y_test = train_test_split(X, y, test_size=0.2, random_state=42)\n",
    "\n",
    "# Chuẩn hóa dữ liệu\n",
    "scaler = StandardScaler()\n",
    "X_train = scaler.fit_transform(X_train)\n",
    "X_test = scaler.transform(X_test)"
   ]
  },
  {
   "cell_type": "code",
   "execution_count": 10,
   "metadata": {},
   "outputs": [
    {
     "name": "stdout",
     "output_type": "stream",
     "text": [
      "Accuracy: 0.9\n",
      "              precision    recall  f1-score   support\n",
      "\n",
      "       DrugY       1.00      0.73      0.85        15\n",
      "       drugA       0.75      1.00      0.86         6\n",
      "       drugB       0.75      1.00      0.86         3\n",
      "       drugC       0.83      1.00      0.91         5\n",
      "       drugX       1.00      1.00      1.00        11\n",
      "\n",
      "    accuracy                           0.90        40\n",
      "   macro avg       0.87      0.95      0.89        40\n",
      "weighted avg       0.92      0.90      0.90        40\n",
      "\n"
     ]
    }
   ],
   "source": [
    "# Bước 3: Huấn luyện mô hình Naive Bayes với phân phối Gaussian\n",
    "gnb = GaussianNB()\n",
    "gnb.fit(X_train, y_train)\n",
    "\n",
    "# Dự đoán trên tập kiểm tra\n",
    "y_pred = gnb.predict(X_test)\n",
    "\n",
    "# Bước 4: Đánh giá mô hình\n",
    "print(\"Accuracy:\", accuracy_score(y_test, y_pred))\n",
    "print(classification_report(y_test, y_pred))"
   ]
  }
 ],
 "metadata": {
  "kernelspec": {
   "display_name": "Python 3",
   "language": "python",
   "name": "python3"
  },
  "language_info": {
   "codemirror_mode": {
    "name": "ipython",
    "version": 3
   },
   "file_extension": ".py",
   "mimetype": "text/x-python",
   "name": "python",
   "nbconvert_exporter": "python",
   "pygments_lexer": "ipython3",
   "version": "3.11.2"
  }
 },
 "nbformat": 4,
 "nbformat_minor": 2
}
