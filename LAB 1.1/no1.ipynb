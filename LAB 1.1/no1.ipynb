{
 "cells": [
  {
   "cell_type": "code",
   "execution_count": 20,
   "metadata": {},
   "outputs": [],
   "source": [
    "import pandas as pd\n",
    "import numpy as np\n",
    "import matplotlib.pyplot as plt\n",
    "import seaborn as sb\n",
    "from abc import abstractmethod"
   ]
  },
  {
   "cell_type": "code",
   "execution_count": 21,
   "metadata": {},
   "outputs": [],
   "source": [
    "#1\n",
    "class LinearRegression:\n",
    "    def __call__(self, X, y, N):\n",
    "        self._X = X\n",
    "        self._y = y\n",
    "        self._N = N\n",
    "\n",
    "    @property\n",
    "    def X(self):\n",
    "        print(\"Day la bien doc lap X: \", self._X)\n",
    "        return\n",
    "    \n",
    "    @property\n",
    "    def y(self):\n",
    "        print(\"Day la bien doc lap y: \", self._y)\n",
    "        return\n",
    "    \n",
    "    @property\n",
    "    def N(self):\n",
    "        print(\"Day la bien doc lap N: \", self._N)\n",
    "        return\n",
    "    \n",
    "    @property\n",
    "    def W(self):\n",
    "        return self._W\n",
    "    \n",
    "    def fit(self):\n",
    "        self.new_X = np.hstack((np.ones((self._N, 1)), self._X))\n",
    "        self._W = np.dot(self.new_X, self._W).reshape(1, -1)[0]\n",
    "\n",
    "    def predict(self):\n",
    "        return np.dot(self.new_x, self._w).reshape(1, -1)[0]    "
   ]
  },
  {
   "cell_type": "code",
   "execution_count": null,
   "metadata": {},
   "outputs": [],
   "source": [
    "#2A\n",
    "data = pd.read_csv('linear.csv').values\n",
    "x = data[:, 0].reshape(-1, 1)\n",
    "y = data[:, 1].reshape(-1, 1)\n",
    "N = data.shape[0]\n",
    "plt.scatter(x, y)\n",
    "plt.xlabel('x')\n",
    "plt.ylabel('y')"
   ]
  },
  {
   "cell_type": "code",
   "execution_count": null,
   "metadata": {},
   "outputs": [],
   "source": [
    "reg = LinearRegression(x, y, N)\n",
    "reg.fit()\n",
    "predict = reg.predict()"
   ]
  },
  {
   "cell_type": "code",
   "execution_count": null,
   "metadata": {},
   "outputs": [],
   "source": [
    "plt.plot(x, predict, 'r')\n",
    "plt.scatter(x, y)\n",
    "plt.xlabel('x')\n",
    "plt.ylabel('y')\n",
    "plt.show()"
   ]
  },
  {
   "cell_type": "code",
   "execution_count": null,
   "metadata": {},
   "outputs": [],
   "source": [
    "#2B\n",
    "w = reg.w\n",
    "del reg\n",
    "w"
   ]
  },
  {
   "cell_type": "code",
   "execution_count": null,
   "metadata": {},
   "outputs": [],
   "source": [
    "diff =  x * w[1] + w[0]\n",
    "error = diff - y\n",
    "# using this vectorize calculation will be much faster than using loop\n",
    "squared_error = np.power(error, 2)\n",
    "mean_squared_error = np.sum(squared_error)/N\n",
    "root_mean_squared_error = np.sqrt(mean_squared_error)\n",
    "root_mean_squared_error"
   ]
  },
  {
   "cell_type": "code",
   "execution_count": null,
   "metadata": {},
   "outputs": [],
   "source": [
    "#3\n",
    "data = pd.read_csv('nonLinear.csv').values\n",
    "x = data[:, 0].reshape(-1, 1)\n",
    "y = data[:, 1].reshape(-1, 1)\n",
    "N = data.shape[0]\n",
    "plt.scatter(x, y)\n",
    "plt.xlabel('x')\n",
    "plt.ylabel('y')"
   ]
  },
  {
   "cell_type": "code",
   "execution_count": null,
   "metadata": {},
   "outputs": [],
   "source": [
    "reg = LinearRegression(x, y, N)\n",
    "reg.fit()\n",
    "predict = reg.predict()"
   ]
  },
  {
   "cell_type": "code",
   "execution_count": null,
   "metadata": {},
   "outputs": [],
   "source": [
    "plt.plot(x, predict, 'r')\n",
    "plt.scatter(x, y)\n",
    "plt.xlabel('x')\n",
    "plt.ylabel('y')\n",
    "plt.show()"
   ]
  },
  {
   "cell_type": "code",
   "execution_count": null,
   "metadata": {},
   "outputs": [],
   "source": [
    "#3b\n",
    "w = reg.w\n",
    "del reg\n",
    "diff =  x * w[1] + w[0]\n",
    "error = diff - y\n",
    "# using this vectorize calculation will be much faster than using loop\n",
    "squared_error = np.power(error, 2)\n",
    "mean_squared_error = np.sum(squared_error)/N\n",
    "root_mean_squared_error = np.sqrt(mean_squared_error)\n",
    "root_mean_squared_error"
   ]
  },
  {
   "cell_type": "code",
   "execution_count": null,
   "metadata": {},
   "outputs": [],
   "source": [
    "#4\n",
    "data = pd.read_csv('nonLinear.csv').values\n",
    "x = data[:, 0].reshape(-1, 1)\n",
    "# Thêm vào dữ liệu huấn luyện x^2 để tăng độ phức tạp của dữ liệu\n",
    "new_x = np.hstack((x.copy(), x**2))\n",
    "\n",
    "y = data[:, 1].reshape(-1, 1)\n",
    "N = data.shape[0]"
   ]
  },
  {
   "cell_type": "code",
   "execution_count": null,
   "metadata": {},
   "outputs": [],
   "source": [
    "reg = LinearRegression(new_x, y, N)\n",
    "reg.fit()\n",
    "predict = reg.predict()"
   ]
  },
  {
   "cell_type": "code",
   "execution_count": null,
   "metadata": {},
   "outputs": [],
   "source": [
    "plt.plot(x, predict, 'r')\n",
    "plt.scatter(x, y)\n",
    "plt.xlabel('x')\n",
    "plt.ylabel('y')\n",
    "plt.show()"
   ]
  },
  {
   "cell_type": "code",
   "execution_count": null,
   "metadata": {},
   "outputs": [],
   "source": [
    "error = predict - y.reshape(1,-1)[0]\n",
    "# using this vectorize calculation will be much faster than using loop\\\n",
    "squared_error = np.power(error, 2)\n",
    "mean_squared_error = np.sum(squared_error)/len(y)\n",
    "root_mean_squared_error = np.sqrt(mean_squared_error)\n",
    "root_mean_squared_error"
   ]
  },
  {
   "cell_type": "code",
   "execution_count": 16,
   "metadata": {},
   "outputs": [],
   "source": [
    "#5\n",
    "def rmse_loss(y, pred):\n",
    "    error = pred - y\n",
    "    squared_error = np.power(error, 2)\n",
    "    mean_squared_error = np.sum(squared_error)/len(y)\n",
    "    root_mean_squared_error = np.sqrt(mean_squared_error)\n",
    "    return root_mean_squared_error"
   ]
  },
  {
   "cell_type": "code",
   "execution_count": null,
   "metadata": {},
   "outputs": [],
   "source": [
    "df = pd.read_csv('sample.csv')\n",
    "\n",
    "X = df.drop(\"Kg\", axis = 1)\n",
    "y = df[['Kg']]\n",
    "y"
   ]
  },
  {
   "cell_type": "code",
   "execution_count": null,
   "metadata": {},
   "outputs": [],
   "source": [
    "reg = LinearRegression(X[[\"pound\", \"Femoral Neck\",\"Activity\",\"%Fat S\"]].values, y, len(y[\"Kg\"].values))\n",
    "reg.fit()\n",
    "predict = reg.predict()\n",
    "\n",
    "del reg"
   ]
  },
  {
   "cell_type": "code",
   "execution_count": null,
   "metadata": {},
   "outputs": [],
   "source": [
    "sorted_predict = np.sort(predict, axis=0)\n",
    "sorted_y = np.sort(y[\"Kg\"].values)\n",
    "plt.scatter([i for i in range(len(y))], sorted_predict)\n",
    "plt.plot([i for i in range(len(y))], sorted_y, 'r')\n",
    "plt.xlabel('x')\n",
    "plt.ylabel('y')"
   ]
  },
  {
   "cell_type": "code",
   "execution_count": null,
   "metadata": {},
   "outputs": [],
   "source": [
    "print(\"The loss is:\",rmse_loss(sorted_predict, np.sort(y[\"Kg\"].values, axis=0)))"
   ]
  },
  {
   "cell_type": "code",
   "execution_count": null,
   "metadata": {},
   "outputs": [],
   "source": [
    "reg = LinearRegression(X[[\"Femoral Neck\",\"Activity\",\"%Fat S\"]].values, y, len(y[\"Kg\"].values))\n",
    "reg.fit()\n",
    "predict = reg.predict()\n",
    "\n",
    "del reg"
   ]
  },
  {
   "cell_type": "code",
   "execution_count": null,
   "metadata": {},
   "outputs": [],
   "source": [
    "sorted_predict = np.sort(predict, axis=0)\n",
    "sorted_y = np.sort(y[\"Kg\"].values)\n",
    "plt.scatter([i for i in range(len(y))], sorted_predict)\n",
    "plt.plot([i for i in range(len(y))], sorted_y, 'r')\n",
    "plt.xlabel('x')\n",
    "plt.ylabel('y')"
   ]
  },
  {
   "cell_type": "code",
   "execution_count": null,
   "metadata": {},
   "outputs": [],
   "source": [
    "print(\"The loss is:\",rmse_loss(sorted_predict, np.sort(y[\"Kg\"].values, axis=0)))"
   ]
  }
 ],
 "metadata": {
  "kernelspec": {
   "display_name": "Python 3",
   "language": "python",
   "name": "python3"
  },
  "language_info": {
   "codemirror_mode": {
    "name": "ipython",
    "version": 3
   },
   "file_extension": ".py",
   "mimetype": "text/x-python",
   "name": "python",
   "nbconvert_exporter": "python",
   "pygments_lexer": "ipython3",
   "version": "3.11.2"
  }
 },
 "nbformat": 4,
 "nbformat_minor": 2
}
